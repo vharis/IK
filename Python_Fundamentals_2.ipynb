{
  "cells": [
    {
      "cell_type": "markdown",
      "id": "cfccc0a5",
      "metadata": {
        "id": "cfccc0a5"
      },
      "source": [
        "## Tuples"
      ]
    },
    {
      "cell_type": "code",
      "execution_count": null,
      "id": "f150976a",
      "metadata": {
        "id": "f150976a",
        "outputId": "91c76a0d-d1b5-462f-ad91-e040f2ef86d1"
      },
      "outputs": [
        {
          "name": "stdout",
          "output_type": "stream",
          "text": [
            "('Max', 28, 'New York')\n",
            "<class 'tuple'>\n"
          ]
        }
      ],
      "source": [
        "# Define a new tuple\n",
        "tuple_1 = (\"Max\", 28, \"New York\")\n",
        "\n",
        "print(tuple_1)\n",
        "print(type(tuple_1))"
      ]
    },
    {
      "cell_type": "markdown",
      "id": "b47fba79",
      "metadata": {
        "id": "b47fba79"
      },
      "source": [
        "# Python Fundamentals - Week 2"
      ]
    },
    {
      "cell_type": "code",
      "execution_count": 1,
      "id": "c64721dc",
      "metadata": {
        "colab": {
          "base_uri": "https://localhost:8080/"
        },
        "id": "c64721dc",
        "outputId": "a34e09ad-284d-4943-eb46-ea9691e43524"
      },
      "outputs": [
        {
          "output_type": "stream",
          "name": "stdout",
          "text": [
            "('Linda', 25, 'Miami')\n",
            "<class 'tuple'>\n"
          ]
        }
      ],
      "source": [
        "# Parentheses are optional\n",
        "tuple_2 = \"Linda\", 25, \"Miami\"\n",
        "print(tuple_2)\n",
        "print(type(tuple_2))"
      ]
    },
    {
      "cell_type": "code",
      "execution_count": null,
      "id": "be04b55d",
      "metadata": {
        "scrolled": false,
        "id": "be04b55d",
        "outputId": "c053fa42-db03-490f-e3f9-61f091e4c074"
      },
      "outputs": [
        {
          "ename": "TypeError",
          "evalue": "'tuple' object does not support item assignment",
          "output_type": "error",
          "traceback": [
            "\u001b[0;31m---------------------------------------------------------------------------\u001b[0m",
            "\u001b[0;31mTypeError\u001b[0m                                 Traceback (most recent call last)",
            "Cell \u001b[0;32mIn[6], line 2\u001b[0m\n\u001b[1;32m      1\u001b[0m \u001b[38;5;66;03m# Tuples are immutable (ERROR)\u001b[39;00m\n\u001b[0;32m----> 2\u001b[0m tuple_1[\u001b[38;5;241m2\u001b[39m] \u001b[38;5;241m=\u001b[39m \u001b[38;5;124m\"\u001b[39m\u001b[38;5;124mBoston\u001b[39m\u001b[38;5;124m\"\u001b[39m\n",
            "\u001b[0;31mTypeError\u001b[0m: 'tuple' object does not support item assignment"
          ]
        }
      ],
      "source": [
        "# Tuples are immutable (ERROR)\n",
        "tuple_1[2] = \"Boston\""
      ]
    },
    {
      "cell_type": "code",
      "execution_count": null,
      "id": "22b4d3da",
      "metadata": {
        "id": "22b4d3da",
        "outputId": "d31d7aeb-7867-4595-ac83-db97076f6e11"
      },
      "outputs": [
        {
          "name": "stdout",
          "output_type": "stream",
          "text": [
            "['Max', 28, 'Boston']\n"
          ]
        }
      ],
      "source": [
        "# Lists are mutable (unlike tuples)\n",
        "list_1 = [\"Max\", 28, \"New York\"]\n",
        "\n",
        "list_1[2] = \"Boston\"\n",
        "\n",
        "print(list_1)"
      ]
    },
    {
      "cell_type": "code",
      "execution_count": null,
      "id": "3d2abf36",
      "metadata": {
        "id": "3d2abf36",
        "outputId": "4f1eef50-99f0-4de2-c2f4-c7df8db7f850"
      },
      "outputs": [
        {
          "name": "stdout",
          "output_type": "stream",
          "text": [
            "['Alice', 'Max']\n",
            "[25, 28]\n",
            "['New York', 'Boston']\n"
          ]
        }
      ],
      "source": [
        "# Tuples are iterable (combine tuples and lists)\n",
        "new_tuple = ([\"Alice\", 25, \"New York\"], [\"Max\", 28, \"Boston\"])\n",
        "\n",
        "# Use list comprehensions to split and bundle corresponding elements\n",
        "names = [item[0] for item in new_tuple]\n",
        "ages = [item[1] for item in new_tuple]\n",
        "cities = [item[-1] for item in new_tuple]\n",
        "\n",
        "print(names)\n",
        "print(ages)\n",
        "print(cities)"
      ]
    },
    {
      "cell_type": "code",
      "execution_count": null,
      "id": "b2ae69d8",
      "metadata": {
        "id": "b2ae69d8",
        "outputId": "2817163b-55a5-476c-9006-c26d23b0bf59"
      },
      "outputs": [
        {
          "name": "stdout",
          "output_type": "stream",
          "text": [
            "(1, 2, 3) <class 'tuple'>\n"
          ]
        }
      ],
      "source": [
        "myTuple = (1,2)\n",
        "myTuple = myTuple + (3,)\n",
        "# newTuple = myTuple + (3,)\n",
        "print(myTuple, type(myTuple))"
      ]
    },
    {
      "cell_type": "code",
      "execution_count": null,
      "id": "98ea3401",
      "metadata": {
        "id": "98ea3401",
        "outputId": "091b3c8e-0eae-44ce-8c7e-f811a0c5f58b"
      },
      "outputs": [
        {
          "name": "stdout",
          "output_type": "stream",
          "text": [
            "Alice\n",
            "25\n",
            "New York\n"
          ]
        }
      ],
      "source": [
        "# Tuple unpacking\n",
        "person = (\"Alice\", 25, \"New York\")\n",
        "\n",
        "name, age, city = person\n",
        "\n",
        "print(name)\n",
        "print(age)\n",
        "print(city)"
      ]
    },
    {
      "cell_type": "code",
      "execution_count": null,
      "id": "eab5caf9",
      "metadata": {
        "scrolled": true,
        "id": "eab5caf9",
        "outputId": "988ed679-75ba-4994-8500-9ab2ce31c40e"
      },
      "outputs": [
        {
          "name": "stdout",
          "output_type": "stream",
          "text": [
            "5\n",
            "<class 'int'>\n",
            "\n"
          ]
        }
      ],
      "source": [
        "# Integers: One element Tuple definition\n",
        "\n",
        "tuple_1 = (5) # Not a tuple\n",
        "\n",
        "print(tuple_1)\n",
        "print(type(tuple_1))\n",
        "print()"
      ]
    },
    {
      "cell_type": "code",
      "execution_count": null,
      "id": "37b9b648",
      "metadata": {
        "id": "37b9b648",
        "outputId": "a4cdc8ec-7d10-4da0-8029-f87af6ab9696"
      },
      "outputs": [
        {
          "name": "stdout",
          "output_type": "stream",
          "text": [
            "(5,)\n",
            "<class 'tuple'>\n",
            "\n"
          ]
        }
      ],
      "source": [
        "tuple_2 = (5,) # tuple\n",
        "\n",
        "print(tuple_2)\n",
        "print(type(tuple_2))\n",
        "print()"
      ]
    },
    {
      "cell_type": "code",
      "execution_count": null,
      "id": "5c11a4ae",
      "metadata": {
        "id": "5c11a4ae",
        "outputId": "c21b7cfd-01bf-434b-e624-36d80090ef8d"
      },
      "outputs": [
        {
          "name": "stdout",
          "output_type": "stream",
          "text": [
            "('a',)\n",
            "<class 'tuple'>\n"
          ]
        }
      ],
      "source": [
        "# Also true for strings\n",
        "new_tuple = ('a',)\n",
        "\n",
        "print(new_tuple)\n",
        "print(type(new_tuple))"
      ]
    },
    {
      "cell_type": "markdown",
      "id": "0afff9f1",
      "metadata": {
        "id": "0afff9f1"
      },
      "source": [
        "#### Iteration through Tuples"
      ]
    },
    {
      "cell_type": "code",
      "execution_count": null,
      "id": "3565606d",
      "metadata": {
        "id": "3565606d"
      },
      "outputs": [],
      "source": [
        "# Iterate through a tuple\n",
        "tuple_1 = (\"Max\", 28, \"New York\")"
      ]
    },
    {
      "cell_type": "code",
      "execution_count": null,
      "id": "959372c8",
      "metadata": {
        "id": "959372c8",
        "outputId": "da41e623-744c-439c-83a2-1f993b10fcc0"
      },
      "outputs": [
        {
          "name": "stdout",
          "output_type": "stream",
          "text": [
            "Max  28  New York  "
          ]
        }
      ],
      "source": [
        "# Iterate by item\n",
        "for item in tuple_1:\n",
        "    print(item, end=\"  \")"
      ]
    },
    {
      "cell_type": "code",
      "execution_count": null,
      "id": "479e4237",
      "metadata": {
        "id": "479e4237",
        "outputId": "5877ad39-61f9-49b8-d9ff-fdeb248ebb75"
      },
      "outputs": [
        {
          "name": "stdout",
          "output_type": "stream",
          "text": [
            "0 Max\n",
            "1 28\n",
            "2 New York\n"
          ]
        }
      ],
      "source": [
        "n = len(tuple_1)\n",
        "\n",
        "# Iterate by index\n",
        "for i in range(n):\n",
        "    print(i, tuple_1[i])"
      ]
    },
    {
      "cell_type": "code",
      "execution_count": null,
      "id": "d8822716",
      "metadata": {
        "id": "d8822716",
        "outputId": "fbb9608c-fbe7-43c4-d74d-5e2be3cce856"
      },
      "outputs": [
        {
          "name": "stdout",
          "output_type": "stream",
          "text": [
            "0 Max\n",
            "1 28\n",
            "2 New York\n"
          ]
        }
      ],
      "source": [
        "# Iterate by index and item (enumerate)\n",
        "for idx, val in enumerate(tuple_1):\n",
        "    print(idx, val)"
      ]
    },
    {
      "cell_type": "code",
      "execution_count": null,
      "id": "f9326cc0",
      "metadata": {
        "id": "f9326cc0",
        "outputId": "b874d302-ebe3-46ed-9175-ce7ab98aae51"
      },
      "outputs": [
        {
          "name": "stdout",
          "output_type": "stream",
          "text": [
            "True False True\n"
          ]
        }
      ],
      "source": [
        "# Search a tuple\n",
        "tuple_1 = (\"Max\", 28, \"New York\")\n",
        "\n",
        "result1 = \"New York\" in tuple_1\n",
        "result2 = \"Chicago\" in tuple_1\n",
        "result3 = \"Boston\" not in tuple_1\n",
        "\n",
        "print(result1, result2, result3)"
      ]
    },
    {
      "cell_type": "code",
      "execution_count": null,
      "id": "0643272b",
      "metadata": {
        "scrolled": true,
        "id": "0643272b",
        "outputId": "7c04ae8f-963f-4ade-d12d-542547072c9c"
      },
      "outputs": [
        {
          "name": "stdout",
          "output_type": "stream",
          "text": [
            "5\n",
            "2\n",
            "3\n"
          ]
        }
      ],
      "source": [
        "# Some tuples properties\n",
        "my_tuple = ('a','p','p','l','e')\n",
        "\n",
        "# len() : get the number of elements in a tuple\n",
        "print(len(my_tuple))\n",
        "\n",
        "# count(x) : Return the number of items that is equal to x\n",
        "print(my_tuple.count('p'))\n",
        "\n",
        "# index(x) : Return index of first item that is equal to x\n",
        "print(my_tuple.index('l'))"
      ]
    },
    {
      "cell_type": "code",
      "execution_count": null,
      "id": "39703784",
      "metadata": {
        "id": "39703784",
        "outputId": "facedfb7-8f4e-4e97-bf1a-2220fe27cd08"
      },
      "outputs": [
        {
          "name": "stdout",
          "output_type": "stream",
          "text": [
            "('a', 'p', 'p', 'l', 'e', 'a', 'p', 'p', 'l', 'e')\n"
          ]
        }
      ],
      "source": [
        "# repetition (such as lists and strings)\n",
        "print(('a','p','p','l','e') * 2)"
      ]
    },
    {
      "cell_type": "markdown",
      "id": "28f3167c",
      "metadata": {
        "id": "28f3167c"
      },
      "source": [
        "#### Type Conversions"
      ]
    },
    {
      "cell_type": "code",
      "execution_count": null,
      "id": "91e3b88f",
      "metadata": {
        "id": "91e3b88f",
        "outputId": "507d5a23-6d38-4d54-9f51-d72824b25238"
      },
      "outputs": [
        {
          "name": "stdout",
          "output_type": "stream",
          "text": [
            "(1, 2, 3)\n"
          ]
        }
      ],
      "source": [
        "# Convert itearable to tuple\n",
        "my_list = [1, 2, 3]\n",
        "tuple_4 = tuple(my_list)\n",
        "print(tuple_4)"
      ]
    },
    {
      "cell_type": "code",
      "execution_count": null,
      "id": "4abb38bf",
      "metadata": {
        "id": "4abb38bf",
        "outputId": "6c18e35e-6211-4010-9e67-b588adbcbe3e"
      },
      "outputs": [
        {
          "name": "stdout",
          "output_type": "stream",
          "text": [
            "('a', 'b', 'c', 'd')\n"
          ]
        }
      ],
      "source": [
        "# Convert list to tuple\n",
        "my_list = ['a', 'b', 'c', 'd']\n",
        "list_to_tuple = tuple(my_list)\n",
        "print(list_to_tuple)"
      ]
    },
    {
      "cell_type": "code",
      "execution_count": null,
      "id": "f1467546",
      "metadata": {
        "id": "f1467546",
        "outputId": "afb880e7-a82a-47cd-b018-b1a0a15cca5c"
      },
      "outputs": [
        {
          "name": "stdout",
          "output_type": "stream",
          "text": [
            "['a', 'b', 'c', 'd']\n"
          ]
        }
      ],
      "source": [
        "# Convert tuple to list\n",
        "my_tuple = ('a', 'b', 'c', 'd')\n",
        "tuple_to_list = list(my_tuple)\n",
        "print(tuple_to_list)"
      ]
    },
    {
      "cell_type": "code",
      "execution_count": null,
      "id": "a59f9e1b",
      "metadata": {
        "id": "a59f9e1b",
        "outputId": "14cffd75-6294-4d7e-b89d-2ab1cc060b2b"
      },
      "outputs": [
        {
          "name": "stdout",
          "output_type": "stream",
          "text": [
            "('H', 'e', 'l', 'l', 'o')\n"
          ]
        }
      ],
      "source": [
        "# convert string to tuple\n",
        "my_str = 'Hello'\n",
        "str_to_tuple = tuple(my_str)\n",
        "print(str_to_tuple)"
      ]
    },
    {
      "cell_type": "markdown",
      "id": "4bfc009c",
      "metadata": {
        "id": "4bfc009c"
      },
      "source": [
        "#### Memory Usage"
      ]
    },
    {
      "cell_type": "code",
      "execution_count": null,
      "id": "8f3462da",
      "metadata": {
        "id": "8f3462da"
      },
      "outputs": [],
      "source": [
        "my_list = [0, 1, 2, 5, 10]\n",
        "my_tuple = (0, 1, 2, 5, 10)"
      ]
    },
    {
      "cell_type": "code",
      "execution_count": null,
      "id": "8587c6d8",
      "metadata": {
        "id": "8587c6d8",
        "outputId": "621d2cc5-36e1-421d-dca7-797f5c539dc2"
      },
      "outputs": [
        {
          "name": "stdout",
          "output_type": "stream",
          "text": [
            "104 bytes\n",
            "80 bytes\n"
          ]
        }
      ],
      "source": [
        "# compare the size\n",
        "import sys\n",
        "\n",
        "print(sys.getsizeof(my_list), \"bytes\")\n",
        "print(sys.getsizeof(my_tuple), \"bytes\")"
      ]
    },
    {
      "cell_type": "markdown",
      "id": "f0ab431a",
      "metadata": {
        "id": "f0ab431a"
      },
      "source": [
        "#### Function Output"
      ]
    },
    {
      "cell_type": "code",
      "execution_count": null,
      "id": "852cb6f2",
      "metadata": {
        "id": "852cb6f2"
      },
      "outputs": [],
      "source": [
        "# Using a tuple to return multiple values\n",
        "def divide(a, b):\n",
        "    quotient = a // b\n",
        "    remainder = a % b\n",
        "    return quotient, remainder"
      ]
    },
    {
      "cell_type": "code",
      "execution_count": null,
      "id": "28033711",
      "metadata": {
        "id": "28033711",
        "outputId": "bcdb897d-4031-459b-c31f-31d070dd50ae"
      },
      "outputs": [
        {
          "name": "stdout",
          "output_type": "stream",
          "text": [
            "3 1\n"
          ]
        }
      ],
      "source": [
        "# result = divide(10, 3) # 10 = 3 x 3 + 1\n",
        "\n",
        "quotient, remainder = divide(10, 3)\n",
        "print(quotient, remainder)\n",
        "\n",
        "# result = divide(10, 3)\n",
        "# print(result[0], result[1])"
      ]
    },
    {
      "cell_type": "markdown",
      "id": "f11b8688",
      "metadata": {
        "id": "f11b8688"
      },
      "source": [
        "## Sets"
      ]
    },
    {
      "cell_type": "code",
      "execution_count": null,
      "id": "d86b5344",
      "metadata": {
        "id": "d86b5344",
        "outputId": "df0986d6-07b7-41ef-d904-f605954899ca"
      },
      "outputs": [
        {
          "name": "stdout",
          "output_type": "stream",
          "text": [
            "Our set: {1, 19, 4, 5, 6, 9, 10}\n",
            "\n",
            "length of the set: 7\n",
            "\n",
            "Maximum element of the set 19\n"
          ]
        }
      ],
      "source": [
        "# Define a new set\n",
        "set1 = {1, 5, 10, 4, 6, 9, 19}\n",
        "\n",
        "print(\"Our set:\", set1)\n",
        "print(\"\\nlength of the set:\", len(set1))\n",
        "print(\"\\nMaximum element of the set\", max(set1))"
      ]
    },
    {
      "cell_type": "code",
      "execution_count": null,
      "id": "7da1baa3",
      "metadata": {
        "id": "7da1baa3"
      },
      "outputs": [],
      "source": [
        "empty_list = [] # list()\n",
        "empty_tuple = () # tuple()\n",
        "empty_set = set()\n",
        "empty_dictionary = {} # dict()"
      ]
    },
    {
      "cell_type": "code",
      "execution_count": null,
      "id": "b1b1c738",
      "metadata": {
        "id": "b1b1c738",
        "outputId": "6c01e54d-182e-411b-c218-ee1a1268dabb"
      },
      "outputs": [
        {
          "name": "stdout",
          "output_type": "stream",
          "text": [
            "set()\n",
            "<class 'set'>\n"
          ]
        }
      ],
      "source": [
        "# Define an empty set\n",
        "empty_set = set()\n",
        "print(empty_set)\n",
        "print(type(empty_set))"
      ]
    },
    {
      "cell_type": "code",
      "execution_count": null,
      "id": "1124b084",
      "metadata": {
        "id": "1124b084",
        "outputId": "6852846d-9fd8-4503-bbc3-9e8512d0cce8"
      },
      "outputs": [
        {
          "name": "stdout",
          "output_type": "stream",
          "text": [
            "{}\n",
            "<class 'dict'>\n"
          ]
        }
      ],
      "source": [
        "# Don't confuse it with dictionary\n",
        "empty_dict = {}\n",
        "# empty_dict = dict()\n",
        "print(empty_dict)\n",
        "print(type(empty_dict))"
      ]
    },
    {
      "cell_type": "code",
      "execution_count": null,
      "id": "91520d3a",
      "metadata": {
        "scrolled": true,
        "id": "91520d3a",
        "outputId": "189c4c2c-3d1c-4830-d4be-6df0b406ba0d"
      },
      "outputs": [
        {
          "ename": "TypeError",
          "evalue": "'set' object is not subscriptable",
          "output_type": "error",
          "traceback": [
            "\u001b[0;31m---------------------------------------------------------------------------\u001b[0m",
            "\u001b[0;31mTypeError\u001b[0m                                 Traceback (most recent call last)",
            "Cell \u001b[0;32mIn[39], line 4\u001b[0m\n\u001b[1;32m      1\u001b[0m \u001b[38;5;66;03m# Set is not indexed\u001b[39;00m\n\u001b[1;32m      2\u001b[0m set1 \u001b[38;5;241m=\u001b[39m {\u001b[38;5;241m1\u001b[39m, \u001b[38;5;241m5\u001b[39m, \u001b[38;5;241m10\u001b[39m, \u001b[38;5;241m4\u001b[39m, \u001b[38;5;241m6\u001b[39m, \u001b[38;5;241m9\u001b[39m, \u001b[38;5;241m19\u001b[39m}\n\u001b[0;32m----> 4\u001b[0m \u001b[43mset1\u001b[49m\u001b[43m[\u001b[49m\u001b[38;5;241;43m2\u001b[39;49m\u001b[43m]\u001b[49m\n",
            "\u001b[0;31mTypeError\u001b[0m: 'set' object is not subscriptable"
          ]
        }
      ],
      "source": [
        "# Set is not indexed\n",
        "set1 = {1, 5, 10, 4, 6, 9, 19}\n",
        "\n",
        "set1[2]"
      ]
    },
    {
      "cell_type": "code",
      "execution_count": null,
      "id": "4da025d9",
      "metadata": {
        "id": "4da025d9",
        "outputId": "f89d657b-bae2-4284-97b1-00213237ace3"
      },
      "outputs": [
        {
          "name": "stdout",
          "output_type": "stream",
          "text": [
            "{1, 2, 'a'}\n"
          ]
        }
      ],
      "source": [
        "# Sets are heterogeneous\n",
        "new_set = {2, 1, \"a\"}\n",
        "print(new_set)"
      ]
    },
    {
      "cell_type": "code",
      "execution_count": null,
      "id": "fd207339",
      "metadata": {
        "id": "fd207339",
        "outputId": "f9f9985d-c978-421c-b317-a25c8d34f380"
      },
      "outputs": [
        {
          "name": "stdout",
          "output_type": "stream",
          "text": [
            "{8, 2, 4, 6}\n"
          ]
        }
      ],
      "source": [
        "# Sets remove duplicate elements\n",
        "numbers = {2, 4, 6, 6, 2, 8, 6, 6, 6, 6}\n",
        "print(numbers)"
      ]
    },
    {
      "cell_type": "markdown",
      "id": "30f114df",
      "metadata": {
        "id": "30f114df"
      },
      "source": [
        "#### Sets Built-in Functions"
      ]
    },
    {
      "cell_type": "code",
      "execution_count": null,
      "id": "135cea0c",
      "metadata": {
        "id": "135cea0c",
        "outputId": "a7aea143-ebb7-49c9-93e6-9a39f1b714e5"
      },
      "outputs": [
        {
          "name": "stdout",
          "output_type": "stream",
          "text": [
            "{'cherry', 'banana', 'apple'}\n"
          ]
        }
      ],
      "source": [
        "# Set built-in functions\n",
        "fruits = {\"apple\", \"banana\", \"cherry\"}\n",
        "print(fruits)"
      ]
    },
    {
      "cell_type": "code",
      "execution_count": null,
      "id": "98705e80",
      "metadata": {
        "id": "98705e80",
        "outputId": "4b7be597-d549-4fd2-83ad-4b2a5bfb69b8"
      },
      "outputs": [
        {
          "name": "stdout",
          "output_type": "stream",
          "text": [
            "{'cherry', 'orange', 'banana', 'apple'}\n"
          ]
        }
      ],
      "source": [
        "# Adding an element\n",
        "fruits.add(\"orange\")\n",
        "print(fruits)"
      ]
    },
    {
      "cell_type": "code",
      "execution_count": null,
      "id": "60f1d7a8",
      "metadata": {
        "id": "60f1d7a8",
        "outputId": "376bf5f2-caab-489d-d853-6791e76d474b"
      },
      "outputs": [
        {
          "name": "stdout",
          "output_type": "stream",
          "text": [
            "{'orange', 'banana', 'apple'}\n"
          ]
        }
      ],
      "source": [
        "# Removing an element\n",
        "fruits.remove(\"cherry\")\n",
        "print(fruits)"
      ]
    },
    {
      "cell_type": "code",
      "execution_count": null,
      "id": "7bdca4e9",
      "metadata": {
        "id": "7bdca4e9",
        "outputId": "f034bdde-4480-42a5-82a3-ca543989fdc9"
      },
      "outputs": [
        {
          "name": "stdout",
          "output_type": "stream",
          "text": [
            "{'kiwi', 'orange', 'strawberry'}\n"
          ]
        }
      ],
      "source": [
        "more_fruits = {\"orange\", \"strawberry\", \"kiwi\"}\n",
        "print(more_fruits)"
      ]
    },
    {
      "cell_type": "code",
      "execution_count": null,
      "id": "f833dfb0",
      "metadata": {
        "id": "f833dfb0",
        "outputId": "3ab434ce-2c55-4e84-d20a-c694d8f00bdf"
      },
      "outputs": [
        {
          "name": "stdout",
          "output_type": "stream",
          "text": [
            "{'orange', 'banana', 'apple'}\n",
            "{'kiwi', 'orange', 'strawberry'}\n",
            "{'banana', 'kiwi', 'orange', 'strawberry', 'apple'}\n"
          ]
        }
      ],
      "source": [
        "# Union\n",
        "all_fruits = fruits.union(more_fruits)\n",
        "print(fruits)\n",
        "print(more_fruits)\n",
        "print(all_fruits)"
      ]
    },
    {
      "cell_type": "code",
      "execution_count": null,
      "id": "7afb6ac6",
      "metadata": {
        "id": "7afb6ac6",
        "outputId": "96c21a30-96b2-4e03-cfcc-4c3eab1f66e4"
      },
      "outputs": [
        {
          "name": "stdout",
          "output_type": "stream",
          "text": [
            "{'orange'}\n"
          ]
        }
      ],
      "source": [
        "# Intersection\n",
        "common_fruits = fruits.intersection(more_fruits)\n",
        "print(common_fruits)"
      ]
    },
    {
      "cell_type": "code",
      "execution_count": null,
      "id": "c465969a",
      "metadata": {
        "id": "c465969a",
        "outputId": "5e36416b-9da7-43fa-c76d-fd3ffafd450a"
      },
      "outputs": [
        {
          "name": "stdout",
          "output_type": "stream",
          "text": [
            "{'kiwi', 'strawberry', 'banana', 'apple'}\n"
          ]
        }
      ],
      "source": [
        "# Difference\n",
        "different_fruits = all_fruits.difference(common_fruits)\n",
        "print(different_fruits)"
      ]
    },
    {
      "cell_type": "code",
      "execution_count": null,
      "id": "bc99612e",
      "metadata": {
        "id": "bc99612e",
        "outputId": "655707c8-9c4f-46d0-aa3d-8911aa4526e8"
      },
      "outputs": [
        {
          "name": "stdout",
          "output_type": "stream",
          "text": [
            "{'banana', 'kiwi', 'orange', 'strawberry', 'apple'}\n"
          ]
        }
      ],
      "source": [
        "# Update\n",
        "fruits = {\"apple\", \"banana\", \"orange\"}\n",
        "more_fruits = {\"orange\", \"strawberry\", \"kiwi\"}\n",
        "fruits.update(more_fruits)\n",
        "print(fruits)"
      ]
    },
    {
      "cell_type": "code",
      "execution_count": null,
      "id": "68c4f172",
      "metadata": {
        "id": "68c4f172",
        "outputId": "3fb126a0-dd6e-4d9b-d9dc-6590c4ee39c3"
      },
      "outputs": [
        {
          "ename": "KeyError",
          "evalue": "'watermelon'",
          "output_type": "error",
          "traceback": [
            "\u001b[0;31m---------------------------------------------------------------------------\u001b[0m",
            "\u001b[0;31mKeyError\u001b[0m                                  Traceback (most recent call last)",
            "Cell \u001b[0;32mIn[51], line 2\u001b[0m\n\u001b[1;32m      1\u001b[0m \u001b[38;5;66;03m# Removed element has to be in the set (ERROR)\u001b[39;00m\n\u001b[0;32m----> 2\u001b[0m \u001b[43mfruits\u001b[49m\u001b[38;5;241;43m.\u001b[39;49m\u001b[43mremove\u001b[49m\u001b[43m(\u001b[49m\u001b[38;5;124;43m\"\u001b[39;49m\u001b[38;5;124;43mwatermelon\u001b[39;49m\u001b[38;5;124;43m\"\u001b[39;49m\u001b[43m)\u001b[49m\n",
            "\u001b[0;31mKeyError\u001b[0m: 'watermelon'"
          ]
        }
      ],
      "source": [
        "# Removed element has to be in the set (ERROR)\n",
        "fruits.remove(\"watermelon\")"
      ]
    },
    {
      "cell_type": "code",
      "execution_count": null,
      "id": "35539f42",
      "metadata": {
        "id": "35539f42",
        "outputId": "d385f935-21dc-4018-c4ba-fe0cfbb92b13"
      },
      "outputs": [
        {
          "name": "stdout",
          "output_type": "stream",
          "text": [
            "{'kiwi', 'orange', 'strawberry', 'apple'}\n"
          ]
        }
      ],
      "source": [
        "# discard(x): removes x, nothing if element is not present\n",
        "fruits.discard(\"banana\")\n",
        "print(fruits)"
      ]
    },
    {
      "cell_type": "code",
      "execution_count": null,
      "id": "1317b3c2",
      "metadata": {
        "id": "1317b3c2",
        "outputId": "782b1012-3e3f-4b9b-d3aa-13ac4920dc5c"
      },
      "outputs": [
        {
          "name": "stdout",
          "output_type": "stream",
          "text": [
            "{'kiwi', 'orange', 'strawberry', 'apple'}\n"
          ]
        }
      ],
      "source": [
        "fruits.discard(\"blueberry\")\n",
        "print(fruits)"
      ]
    },
    {
      "cell_type": "code",
      "execution_count": null,
      "id": "73b118f8",
      "metadata": {
        "id": "73b118f8",
        "outputId": "3fbb4c3c-df0d-4b5d-9859-a57fdf392768"
      },
      "outputs": [
        {
          "name": "stdout",
          "output_type": "stream",
          "text": [
            "set()\n"
          ]
        }
      ],
      "source": [
        "# clear() : remove all elements\n",
        "fruits.clear()\n",
        "print(fruits)"
      ]
    },
    {
      "cell_type": "markdown",
      "id": "9801e7d9",
      "metadata": {
        "id": "9801e7d9"
      },
      "source": [
        "## Class Activity"
      ]
    },
    {
      "cell_type": "markdown",
      "id": "2828c8e2",
      "metadata": {
        "id": "2828c8e2"
      },
      "source": [
        "### LeetCode 217"
      ]
    },
    {
      "cell_type": "markdown",
      "id": "6be7c981",
      "metadata": {
        "id": "6be7c981"
      },
      "source": [
        "Given an integer array nums, return true if any value appears at least twice in the array, and return false if every element is distinct."
      ]
    },
    {
      "cell_type": "code",
      "execution_count": null,
      "id": "770d3ef2",
      "metadata": {
        "id": "770d3ef2"
      },
      "outputs": [],
      "source": [
        "# Solution 1\n",
        "def containsDuplicate(nums):\n",
        "    checker = set()\n",
        "    for num in nums:\n",
        "        if num not in checker:\n",
        "            checker.add(num)\n",
        "        else:\n",
        "            return True\n",
        "    return False"
      ]
    },
    {
      "cell_type": "code",
      "execution_count": null,
      "id": "4d6d05fe",
      "metadata": {
        "id": "4d6d05fe"
      },
      "outputs": [],
      "source": [
        "# Solution 2\n",
        "def containsDuplicate(nums):\n",
        "    return len(nums) != len(set(nums))"
      ]
    },
    {
      "cell_type": "code",
      "execution_count": null,
      "id": "79bbc76e",
      "metadata": {
        "id": "79bbc76e",
        "outputId": "064ec825-bfe3-4d88-b4f0-901dd16585f3"
      },
      "outputs": [
        {
          "name": "stdout",
          "output_type": "stream",
          "text": [
            "True\n"
          ]
        }
      ],
      "source": [
        "# Test Case 1\n",
        "nums = [1, 2, 3, 1]\n",
        "print(containsDuplicate(nums))"
      ]
    },
    {
      "cell_type": "code",
      "execution_count": null,
      "id": "00a572aa",
      "metadata": {
        "id": "00a572aa",
        "outputId": "0e26f674-0aaf-446a-f1d9-1fed467efa33"
      },
      "outputs": [
        {
          "name": "stdout",
          "output_type": "stream",
          "text": [
            "False\n"
          ]
        }
      ],
      "source": [
        "# Test Case 2\n",
        "nums = [1, 2, 3, 4]\n",
        "print(containsDuplicate(nums))"
      ]
    },
    {
      "cell_type": "code",
      "execution_count": null,
      "id": "1870be73",
      "metadata": {
        "id": "1870be73",
        "outputId": "b27ab91d-7b5b-4aa5-c6df-48d3d1bf69c1"
      },
      "outputs": [
        {
          "name": "stdout",
          "output_type": "stream",
          "text": [
            "True\n"
          ]
        }
      ],
      "source": [
        "# Test Case 3\n",
        "nums = [1, 1, 1, 3, 3, 4, 3, 2, 4, 2]\n",
        "print(containsDuplicate(nums))"
      ]
    },
    {
      "cell_type": "markdown",
      "id": "6ac95b8f",
      "metadata": {
        "id": "6ac95b8f"
      },
      "source": [
        "### LeetCode 349"
      ]
    },
    {
      "cell_type": "markdown",
      "id": "37e94c7f",
      "metadata": {
        "id": "37e94c7f"
      },
      "source": [
        "Given two integer arrays nums1 and nums2, return an array of their intersection. Each element in the result must be unique and you may return the result in any order."
      ]
    },
    {
      "cell_type": "code",
      "execution_count": null,
      "id": "24c3b225",
      "metadata": {
        "id": "24c3b225"
      },
      "outputs": [],
      "source": [
        "# Solution 1\n",
        "def intersection(nums1, nums2):\n",
        "    # convert both to sets then intersection\n",
        "    set1 = set(nums1)\n",
        "    set2 = set(nums2)\n",
        "    return list(set1.intersection(set2))"
      ]
    },
    {
      "cell_type": "code",
      "execution_count": null,
      "id": "f5e28305",
      "metadata": {
        "id": "f5e28305"
      },
      "outputs": [],
      "source": [
        "# Solution 2\n",
        "def intersection(nums1, nums2):\n",
        "    return list(set(nums1).intersection(set(nums2)))"
      ]
    },
    {
      "cell_type": "code",
      "execution_count": null,
      "id": "4f25325b",
      "metadata": {
        "scrolled": true,
        "id": "4f25325b",
        "outputId": "473d7334-6729-424c-dc59-da8ab6aa9c65"
      },
      "outputs": [
        {
          "name": "stdout",
          "output_type": "stream",
          "text": [
            "[2]\n"
          ]
        }
      ],
      "source": [
        "# Test Case 1\n",
        "nums1 = [1, 2, 2, 1] # {1, 2}\n",
        "nums2 = [2, 2] # {2}\n",
        "print(intersection(nums1, nums2))"
      ]
    },
    {
      "cell_type": "code",
      "execution_count": null,
      "id": "e2da2aa5",
      "metadata": {
        "id": "e2da2aa5",
        "outputId": "c54efb8c-38fe-467b-ac22-a49afbaf949a"
      },
      "outputs": [
        {
          "name": "stdout",
          "output_type": "stream",
          "text": [
            "[9, 4]\n"
          ]
        }
      ],
      "source": [
        "# Test Case 2\n",
        "nums1 = [4, 9, 5] # {4, 9, 5}\n",
        "nums2 = [9, 4, 9, 8, 4] # {9, 4, 8}\n",
        "print(intersection(nums1, nums2))"
      ]
    },
    {
      "cell_type": "markdown",
      "id": "7f47bd92",
      "metadata": {
        "id": "7f47bd92"
      },
      "source": [
        "## Dictionaries"
      ]
    },
    {
      "cell_type": "code",
      "execution_count": null,
      "id": "9c3742ca",
      "metadata": {
        "id": "9c3742ca",
        "outputId": "5672c082-8600-41f3-8a6b-3f55d7d7b354"
      },
      "outputs": [
        {
          "name": "stdout",
          "output_type": "stream",
          "text": [
            "{'Nepal': 'Kathmandu', 'Italy': 'Rome', 'England': 'London'}\n",
            "<class 'dict'>\n"
          ]
        }
      ],
      "source": [
        "# Define a new dictionary\n",
        "capital_city = {\"Nepal\": \"Kathmandu\", \"Italy\": \"Rome\", \"England\": \"London\"}\n",
        "print(capital_city)\n",
        "print(type(capital_city))"
      ]
    },
    {
      "cell_type": "code",
      "execution_count": null,
      "id": "17b710ee",
      "metadata": {
        "id": "17b710ee",
        "outputId": "ec4ea7fd-d2a7-4c54-e36c-1af73cda2be2"
      },
      "outputs": [
        {
          "name": "stdout",
          "output_type": "stream",
          "text": [
            "Capital of Italy: Rome\n"
          ]
        }
      ],
      "source": [
        "# Retrieve value for a given key\n",
        "print(\"Capital of Italy:\", capital_city[\"Italy\"])"
      ]
    },
    {
      "cell_type": "code",
      "execution_count": null,
      "id": "95c773d8",
      "metadata": {
        "id": "95c773d8",
        "outputId": "d4140e97-8e22-41e3-dfcd-420cae363d93"
      },
      "outputs": [
        {
          "ename": "KeyError",
          "evalue": "'Spain'",
          "output_type": "error",
          "traceback": [
            "\u001b[0;31m---------------------------------------------------------------------------\u001b[0m",
            "\u001b[0;31mKeyError\u001b[0m                                  Traceback (most recent call last)",
            "Cell \u001b[0;32mIn[72], line 1\u001b[0m\n\u001b[0;32m----> 1\u001b[0m \u001b[43mcapital_city\u001b[49m\u001b[43m[\u001b[49m\u001b[38;5;124;43m\"\u001b[39;49m\u001b[38;5;124;43mSpain\u001b[39;49m\u001b[38;5;124;43m\"\u001b[39;49m\u001b[43m]\u001b[49m\n",
            "\u001b[0;31mKeyError\u001b[0m: 'Spain'"
          ]
        }
      ],
      "source": [
        "capital_city[\"Spain\"]"
      ]
    },
    {
      "cell_type": "code",
      "execution_count": null,
      "id": "d52f27a8",
      "metadata": {
        "id": "d52f27a8",
        "outputId": "abf083cb-df53-4d29-e6b8-57132ce32157"
      },
      "outputs": [
        {
          "name": "stdout",
          "output_type": "stream",
          "text": [
            "Country not provided\n"
          ]
        }
      ],
      "source": [
        "# Retrieve value with a default option\n",
        "print(capital_city.get(\"Spain\", \"Country not provided\"))"
      ]
    },
    {
      "cell_type": "code",
      "execution_count": null,
      "id": "33b0d43a",
      "metadata": {
        "id": "33b0d43a",
        "outputId": "4b0ad1b0-3f8d-4385-c5fa-9e1a5ac61200"
      },
      "outputs": [
        {
          "name": "stdout",
          "output_type": "stream",
          "text": [
            "Updated Dictionary:  {'Nepal': 'Kathmandu', 'Italy': 'Rome', 'England': 'London', 'Japan': 'Tokyo'}\n"
          ]
        }
      ],
      "source": [
        "# Store a new key-value pair\n",
        "capital_city[\"Japan\"] = \"Tokyo\"\n",
        "print(\"Updated Dictionary: \", capital_city)"
      ]
    },
    {
      "cell_type": "markdown",
      "id": "591cbbc8",
      "metadata": {
        "id": "591cbbc8"
      },
      "source": [
        "#### Dictionary Methods"
      ]
    },
    {
      "cell_type": "code",
      "execution_count": null,
      "id": "f821cf06",
      "metadata": {
        "id": "f821cf06",
        "outputId": "81c2d8b2-d18c-4f2d-87cf-395d5e0ed49e"
      },
      "outputs": [
        {
          "name": "stdout",
          "output_type": "stream",
          "text": [
            "{'name': 'Alice', 'age': 25, 'city': 'New York'}\n"
          ]
        }
      ],
      "source": [
        "# Another example\n",
        "person = {\n",
        "    \"name\": \"Alice\",\n",
        "    \"age\": 25,\n",
        "    \"city\": \"New York\"\n",
        "}\n",
        "print(person)"
      ]
    },
    {
      "cell_type": "code",
      "execution_count": null,
      "id": "6dcc2c37",
      "metadata": {
        "scrolled": true,
        "id": "6dcc2c37",
        "outputId": "e51219c0-c194-4b8a-fb97-640d17bd7767"
      },
      "outputs": [
        {
          "name": "stdout",
          "output_type": "stream",
          "text": [
            "dict_keys(['name', 'age', 'city'])\n",
            "<class 'dict_keys'>\n"
          ]
        }
      ],
      "source": [
        "# Get dict keys\n",
        "keys = person.keys()\n",
        "print(keys)\n",
        "print(type(keys))"
      ]
    },
    {
      "cell_type": "code",
      "execution_count": null,
      "id": "e726876e",
      "metadata": {
        "id": "e726876e",
        "outputId": "8ca52c01-d443-4d6a-ec5f-4d9ae3904dcb"
      },
      "outputs": [
        {
          "name": "stdout",
          "output_type": "stream",
          "text": [
            "dict_values(['Alice', 25, 'New York'])\n",
            "<class 'dict_values'>\n"
          ]
        }
      ],
      "source": [
        "# Get dict vals\n",
        "values = person.values()\n",
        "print(values)\n",
        "print(type(values))"
      ]
    },
    {
      "cell_type": "code",
      "execution_count": null,
      "id": "b6b38b53",
      "metadata": {
        "id": "b6b38b53",
        "outputId": "a9d76c64-1ec9-468a-ec14-cd0652538f55"
      },
      "outputs": [
        {
          "name": "stdout",
          "output_type": "stream",
          "text": [
            "dict_items([('name', 'Alice'), ('age', 25), ('city', 'New York')])\n",
            "<class 'dict_items'>\n"
          ]
        }
      ],
      "source": [
        "# Get dict key-val pairs\n",
        "items = person.items()\n",
        "print(items)\n",
        "print(type(items))"
      ]
    },
    {
      "cell_type": "code",
      "execution_count": null,
      "id": "c6ee92a3",
      "metadata": {
        "id": "c6ee92a3",
        "outputId": "a4998d8a-d352-44a8-9d6d-7a53c5afb2d8"
      },
      "outputs": [
        {
          "name": "stdout",
          "output_type": "stream",
          "text": [
            "['name', 'age', 'city']\n",
            "['Alice', 25, 'New York']\n",
            "[('name', 'Alice'), ('age', 25), ('city', 'New York')]\n"
          ]
        }
      ],
      "source": [
        "# Converted to list\n",
        "print(list(keys))\n",
        "print(list(values))\n",
        "print(list(items))"
      ]
    },
    {
      "cell_type": "code",
      "execution_count": null,
      "id": "893800cf",
      "metadata": {
        "id": "893800cf",
        "outputId": "44aaabed-b8c6-416b-b81a-2e3e4c8ef1ac"
      },
      "outputs": [
        {
          "name": "stdout",
          "output_type": "stream",
          "text": [
            "Returned value: 25\n",
            "Updated dictionary: {'name': 'Alice', 'city': 'New York'}\n"
          ]
        }
      ],
      "source": [
        "# Removing values\n",
        "\n",
        "# pop - returns the value\n",
        "val = person.pop('age')\n",
        "\n",
        "print(\"Returned value:\", val)\n",
        "print(\"Updated dictionary:\", person)"
      ]
    },
    {
      "cell_type": "code",
      "execution_count": null,
      "id": "59f40661",
      "metadata": {
        "id": "59f40661",
        "outputId": "38e0d5eb-9c6d-474b-8104-844af44c50b1"
      },
      "outputs": [
        {
          "name": "stdout",
          "output_type": "stream",
          "text": [
            "Returned value: ('city', 'New York')\n",
            "Updated dictionary: {'name': 'Alice'}\n"
          ]
        }
      ],
      "source": [
        "val = person.popitem()\n",
        "\n",
        "print(\"Returned value:\", val)\n",
        "print(\"Updated dictionary:\", person)"
      ]
    },
    {
      "cell_type": "code",
      "execution_count": null,
      "id": "aaecd808",
      "metadata": {
        "id": "aaecd808",
        "outputId": "a16f8978-15eb-45a3-eff7-5f1f32f48db1"
      },
      "outputs": [
        {
          "ename": "KeyError",
          "evalue": "'name'",
          "output_type": "error",
          "traceback": [
            "\u001b[0;31m---------------------------------------------------------------------------\u001b[0m",
            "\u001b[0;31mKeyError\u001b[0m                                  Traceback (most recent call last)",
            "Cell \u001b[0;32mIn[83], line 2\u001b[0m\n\u001b[1;32m      1\u001b[0m \u001b[38;5;66;03m# Del - does not return the value\u001b[39;00m\n\u001b[0;32m----> 2\u001b[0m \u001b[38;5;28;01mdel\u001b[39;00m person[\u001b[38;5;124m'\u001b[39m\u001b[38;5;124mname\u001b[39m\u001b[38;5;124m'\u001b[39m]\n\u001b[1;32m      3\u001b[0m \u001b[38;5;28mprint\u001b[39m(person)\n",
            "\u001b[0;31mKeyError\u001b[0m: 'name'"
          ]
        }
      ],
      "source": [
        "# Del - does not return the value\n",
        "del person['name']\n",
        "print(person)"
      ]
    },
    {
      "cell_type": "markdown",
      "id": "d71ce109",
      "metadata": {
        "id": "d71ce109"
      },
      "source": [
        "#### Iteration and Existence"
      ]
    },
    {
      "cell_type": "code",
      "execution_count": null,
      "id": "5e79239b",
      "metadata": {
        "id": "5e79239b",
        "outputId": "4ecd78e4-4c8c-4fff-ca24-fe914168dffa"
      },
      "outputs": [
        {
          "name": "stdout",
          "output_type": "stream",
          "text": [
            "{1: 1, 3: 9, 5: 25, 7: 49, 9: 81}\n"
          ]
        }
      ],
      "source": [
        "# Membership Test for Dictionary Keys\n",
        "squares = {\n",
        "    1: 1,\n",
        "    3: 9,\n",
        "    5: 25,\n",
        "    7: 49,\n",
        "    9: 81\n",
        "}\n",
        "print(squares)"
      ]
    },
    {
      "cell_type": "code",
      "execution_count": null,
      "id": "4d6bba92",
      "metadata": {
        "id": "4d6bba92",
        "outputId": "85dcf64b-c2ec-4f16-a734-b02f6048b8d5"
      },
      "outputs": [
        {
          "name": "stdout",
          "output_type": "stream",
          "text": [
            "Iteration through dict:\n",
            "1 1\n",
            "3 9\n",
            "5 25\n",
            "7 49\n",
            "9 81\n"
          ]
        }
      ],
      "source": [
        "# Iterate through a dict\n",
        "print(\"Iteration through dict:\")\n",
        "\n",
        "for key in squares:\n",
        "    print(key, squares[key])"
      ]
    },
    {
      "cell_type": "code",
      "execution_count": null,
      "id": "7f50dbd9",
      "metadata": {
        "id": "7f50dbd9",
        "outputId": "894c88c7-a75f-4b23-8709-9f02117e9c15"
      },
      "outputs": [
        {
          "name": "stdout",
          "output_type": "stream",
          "text": [
            "Iteration through dict keys:\n",
            "1 1\n",
            "3 9\n",
            "5 25\n",
            "7 49\n",
            "9 81\n"
          ]
        }
      ],
      "source": [
        "# Iterate through keys\n",
        "print(\"Iteration through dict keys:\")\n",
        "\n",
        "for key in squares.keys():\n",
        "    print(key, squares[key])"
      ]
    },
    {
      "cell_type": "code",
      "execution_count": null,
      "id": "be764c2a",
      "metadata": {
        "id": "be764c2a",
        "outputId": "2c59b22b-9638-4bac-e354-7d6bbeb1cd18"
      },
      "outputs": [
        {
          "name": "stdout",
          "output_type": "stream",
          "text": [
            "Iteration through dict vals:\n",
            "1\n",
            "9\n",
            "25\n",
            "49\n",
            "81\n"
          ]
        }
      ],
      "source": [
        "# # Iterate through vals\n",
        "print(\"Iteration through dict vals:\")\n",
        "\n",
        "for value in squares.values():\n",
        "    print(value)"
      ]
    },
    {
      "cell_type": "code",
      "execution_count": null,
      "id": "bc1b98c6",
      "metadata": {
        "scrolled": false,
        "id": "bc1b98c6",
        "outputId": "2b5eb31d-b0e5-469a-abd9-087b1821f877"
      },
      "outputs": [
        {
          "name": "stdout",
          "output_type": "stream",
          "text": [
            "Iteration through dict key-val pairs:\n",
            "(1, 1)\n",
            "(3, 9)\n",
            "(5, 25)\n",
            "(7, 49)\n",
            "(9, 81)\n"
          ]
        }
      ],
      "source": [
        "# Iterate through key-val pairs\n",
        "print(\"Iteration through dict key-val pairs:\")\n",
        "\n",
        "for item in squares.items():\n",
        "    print(item)"
      ]
    },
    {
      "cell_type": "markdown",
      "id": "a357ceea",
      "metadata": {
        "id": "a357ceea"
      },
      "source": [
        "#### Exercise"
      ]
    },
    {
      "cell_type": "code",
      "execution_count": null,
      "id": "983c976d",
      "metadata": {
        "id": "983c976d",
        "outputId": "aef3fefd-fa7d-4005-8777-22fc939f914f"
      },
      "outputs": [
        {
          "name": "stdout",
          "output_type": "stream",
          "text": [
            "The original dictionary: {1: 1, 3: 9, 5: 25, 7: 49, 9: 81}\n"
          ]
        }
      ],
      "source": [
        "print(\"The original dictionary:\", squares)"
      ]
    },
    {
      "cell_type": "code",
      "execution_count": null,
      "id": "a2fd1baf",
      "metadata": {
        "id": "a2fd1baf",
        "outputId": "7d1226b7-df2a-4710-da98-0195c6de6256"
      },
      "outputs": [
        {
          "name": "stdout",
          "output_type": "stream",
          "text": [
            "2\n"
          ]
        }
      ],
      "source": [
        "# Check existence - True = 1 / False = 0\n",
        "a = 1 in squares # True\n",
        "b = 2 not in squares # True\n",
        "c = 49 in squares # False\n",
        "d = 49 in squares.keys() # False\n",
        "e = 49 in squares.values() # True\n",
        "\n",
        "result = (a+b+c)**d+e\n",
        "\n",
        "print(result)"
      ]
    },
    {
      "cell_type": "markdown",
      "id": "17aae0bb",
      "metadata": {
        "id": "17aae0bb"
      },
      "source": [
        "#### Exercise"
      ]
    },
    {
      "cell_type": "code",
      "execution_count": null,
      "id": "f2ba300f",
      "metadata": {
        "id": "f2ba300f",
        "outputId": "0c791e04-d83e-4cbf-8b62-ec195e24d5e0"
      },
      "outputs": [
        {
          "name": "stdout",
          "output_type": "stream",
          "text": [
            "{3: 9, 6: 36, 9: 81}\n"
          ]
        }
      ],
      "source": [
        "my_dict = {3: 9, 6: 36, 9: 81}\n",
        "print(my_dict)"
      ]
    },
    {
      "cell_type": "code",
      "execution_count": null,
      "id": "b6840de8",
      "metadata": {
        "id": "b6840de8",
        "outputId": "01e8061d-fd50-43e2-bef3-f95216184cd8"
      },
      "outputs": [
        {
          "name": "stdout",
          "output_type": "stream",
          "text": [
            "9\n"
          ]
        }
      ],
      "source": [
        "print(my_dict[3])"
      ]
    },
    {
      "cell_type": "code",
      "execution_count": null,
      "id": "5100cb33",
      "metadata": {
        "id": "5100cb33",
        "outputId": "b131cbaf-4fb5-4336-b0d5-c7b6c924c68e"
      },
      "outputs": [
        {
          "ename": "KeyError",
          "evalue": "2",
          "output_type": "error",
          "traceback": [
            "\u001b[0;31m---------------------------------------------------------------------------\u001b[0m",
            "\u001b[0;31mKeyError\u001b[0m                                  Traceback (most recent call last)",
            "Cell \u001b[0;32mIn[94], line 1\u001b[0m\n\u001b[0;32m----> 1\u001b[0m \u001b[38;5;28mprint\u001b[39m(\u001b[43mmy_dict\u001b[49m\u001b[43m[\u001b[49m\u001b[38;5;241;43m2\u001b[39;49m\u001b[43m]\u001b[49m)\n",
            "\u001b[0;31mKeyError\u001b[0m: 2"
          ]
        }
      ],
      "source": [
        "print(my_dict[2])"
      ]
    },
    {
      "cell_type": "code",
      "execution_count": null,
      "id": "4eda99f3",
      "metadata": {
        "scrolled": true,
        "id": "4eda99f3",
        "outputId": "5737b9aa-0041-46cf-905a-9884f0bc25ee"
      },
      "outputs": [
        {
          "name": "stdout",
          "output_type": "stream",
          "text": [
            "!\n"
          ]
        }
      ],
      "source": [
        "print(my_dict.get(2, \"!\"))"
      ]
    },
    {
      "cell_type": "markdown",
      "id": "57699acf",
      "metadata": {
        "id": "57699acf"
      },
      "source": [
        "#### Exercise"
      ]
    },
    {
      "cell_type": "code",
      "execution_count": null,
      "id": "614952fb",
      "metadata": {
        "id": "614952fb",
        "outputId": "4d43bc1f-41bf-4ca6-b627-e260cdc24872"
      },
      "outputs": [
        {
          "name": "stdout",
          "output_type": "stream",
          "text": [
            "{}\n"
          ]
        }
      ],
      "source": [
        "new_dict = {}\n",
        "print(new_dict)"
      ]
    },
    {
      "cell_type": "code",
      "execution_count": null,
      "id": "f572bff7",
      "metadata": {
        "scrolled": true,
        "id": "f572bff7",
        "outputId": "7bcb6edc-ffdd-4097-bc2d-c94e65d2a433"
      },
      "outputs": [
        {
          "name": "stdout",
          "output_type": "stream",
          "text": [
            "{(8, 7): 15, (8, 3, 4): 15}\n"
          ]
        }
      ],
      "source": [
        "# Tuple as key - immutable\n",
        "new_dict[(8, 3, 4)] = 15\n",
        "print(new_dict)"
      ]
    },
    {
      "cell_type": "code",
      "execution_count": null,
      "id": "75b786f1",
      "metadata": {
        "id": "75b786f1",
        "outputId": "220481fd-4c70-4322-f679-5d86512ef3fc"
      },
      "outputs": [
        {
          "name": "stdout",
          "output_type": "stream",
          "text": [
            "{(8, 7): 15, (8, 3, 4): 15, 7: [3, 4]}\n"
          ]
        }
      ],
      "source": [
        "# List as key - mutable\n",
        "new_dict[[3, 4]] = 7\n",
        "print(new_dict)"
      ]
    },
    {
      "cell_type": "markdown",
      "id": "12bfd6ff",
      "metadata": {
        "id": "12bfd6ff"
      },
      "source": [
        "## Modules"
      ]
    },
    {
      "cell_type": "markdown",
      "id": "25002ec1",
      "metadata": {
        "id": "25002ec1"
      },
      "source": [
        "#### Built-in Modules"
      ]
    },
    {
      "cell_type": "code",
      "execution_count": null,
      "id": "e48bd0a0",
      "metadata": {
        "id": "e48bd0a0"
      },
      "outputs": [],
      "source": [
        "import math"
      ]
    },
    {
      "cell_type": "code",
      "execution_count": null,
      "id": "d225df4b",
      "metadata": {
        "id": "d225df4b",
        "outputId": "01a7925f-7776-4c7f-fb70-423277c45df7"
      },
      "outputs": [
        {
          "name": "stdout",
          "output_type": "stream",
          "text": [
            "4.0\n"
          ]
        }
      ],
      "source": [
        "num = 16\n",
        "print(math.sqrt(num))"
      ]
    },
    {
      "cell_type": "code",
      "execution_count": null,
      "id": "8082860a",
      "metadata": {
        "id": "8082860a",
        "outputId": "d2c7a841-be3e-49af-f86e-bc96e8adfbc5"
      },
      "outputs": [
        {
          "name": "stdout",
          "output_type": "stream",
          "text": [
            "24\n"
          ]
        }
      ],
      "source": [
        "num = 4\n",
        "print(math.factorial(num))"
      ]
    },
    {
      "cell_type": "code",
      "execution_count": null,
      "id": "bd23286f",
      "metadata": {
        "id": "bd23286f",
        "outputId": "c3c69fce-3c74-4fac-b4de-637af2a2b34f"
      },
      "outputs": [
        {
          "name": "stdout",
          "output_type": "stream",
          "text": [
            "3.141592653589793\n"
          ]
        }
      ],
      "source": [
        "print(math.pi)"
      ]
    },
    {
      "cell_type": "code",
      "execution_count": null,
      "id": "d9c9c7c6",
      "metadata": {
        "id": "d9c9c7c6",
        "outputId": "73158cba-509d-4c02-dcdc-239b4f972f4a"
      },
      "outputs": [
        {
          "name": "stdout",
          "output_type": "stream",
          "text": [
            "1.2246467991473532e-16\n"
          ]
        }
      ],
      "source": [
        "val = math.pi\n",
        "print(math.sin(val))"
      ]
    },
    {
      "cell_type": "code",
      "execution_count": null,
      "id": "a1ea2c36",
      "metadata": {
        "id": "a1ea2c36",
        "outputId": "eb1ad76a-4a6c-4055-b3ec-cca60a843680"
      },
      "outputs": [
        {
          "name": "stdout",
          "output_type": "stream",
          "text": [
            "3\n",
            "2\n"
          ]
        }
      ],
      "source": [
        "# Ceiling of a number\n",
        "num = 2.3\n",
        "print(math.ceil(num))\n",
        "print(math.floor(num))"
      ]
    },
    {
      "cell_type": "code",
      "execution_count": null,
      "id": "de55beb6",
      "metadata": {
        "id": "de55beb6"
      },
      "outputs": [],
      "source": [
        "import random"
      ]
    },
    {
      "cell_type": "code",
      "execution_count": null,
      "id": "aa543777",
      "metadata": {
        "id": "aa543777",
        "outputId": "4190e0a8-6314-42ec-85ca-b8b0715ce60b"
      },
      "outputs": [
        {
          "data": {
            "text/plain": [
              "10"
            ]
          },
          "execution_count": 138,
          "metadata": {},
          "output_type": "execute_result"
        }
      ],
      "source": [
        "random.randint(1, 10)"
      ]
    },
    {
      "cell_type": "code",
      "execution_count": null,
      "id": "b7cbc406",
      "metadata": {
        "id": "b7cbc406",
        "outputId": "b024d72b-d44f-46fb-c11b-85519d7d870b"
      },
      "outputs": [
        {
          "data": {
            "text/plain": [
              "0.82"
            ]
          },
          "execution_count": 148,
          "metadata": {},
          "output_type": "execute_result"
        }
      ],
      "source": [
        "round(random.random(), 2)"
      ]
    },
    {
      "cell_type": "code",
      "execution_count": null,
      "id": "65d8ef2c",
      "metadata": {
        "scrolled": true,
        "id": "65d8ef2c",
        "outputId": "2553fd02-2586-4450-b0b6-dad6025434d7"
      },
      "outputs": [
        {
          "data": {
            "text/plain": [
              "10"
            ]
          },
          "execution_count": 153,
          "metadata": {},
          "output_type": "execute_result"
        }
      ],
      "source": [
        "random.choice([3, 4, 6, 10])"
      ]
    },
    {
      "cell_type": "markdown",
      "id": "5b1d71a9",
      "metadata": {
        "id": "5b1d71a9"
      },
      "source": [
        "#### from ... import ..."
      ]
    },
    {
      "cell_type": "code",
      "execution_count": null,
      "id": "1f28602e",
      "metadata": {
        "id": "1f28602e",
        "outputId": "0b03108c-c245-4c50-e8fd-f2fcfa381fb5"
      },
      "outputs": [
        {
          "name": "stdout",
          "output_type": "stream",
          "text": [
            "4.0\n"
          ]
        }
      ],
      "source": [
        "from math import sqrt, floor, ceil\n",
        "\n",
        "# square root of a number\n",
        "num = 16\n",
        "print(sqrt(num))"
      ]
    },
    {
      "cell_type": "code",
      "execution_count": null,
      "id": "8fa0c03b",
      "metadata": {
        "id": "8fa0c03b",
        "outputId": "06a231aa-7a93-4a27-b2bb-83948144d1c5"
      },
      "outputs": [
        {
          "name": "stdout",
          "output_type": "stream",
          "text": [
            "4\n"
          ]
        }
      ],
      "source": [
        "from random import randint\n",
        "\n",
        "# Draw random integer in a range\n",
        "print(randint(1, 10))"
      ]
    },
    {
      "cell_type": "markdown",
      "id": "3d4b88c2",
      "metadata": {
        "id": "3d4b88c2"
      },
      "source": [
        "#### User-Defined Modules"
      ]
    },
    {
      "cell_type": "code",
      "execution_count": null,
      "id": "fd117ba2",
      "metadata": {
        "id": "fd117ba2"
      },
      "outputs": [],
      "source": [
        "import math_calculator as mc"
      ]
    },
    {
      "cell_type": "code",
      "execution_count": null,
      "id": "67ddb99b",
      "metadata": {
        "id": "67ddb99b"
      },
      "outputs": [],
      "source": [
        "mc.pi = 3.14"
      ]
    },
    {
      "cell_type": "code",
      "execution_count": null,
      "id": "344070d7",
      "metadata": {
        "id": "344070d7"
      },
      "outputs": [],
      "source": [
        "mc.e = 2.73"
      ]
    },
    {
      "cell_type": "code",
      "execution_count": null,
      "id": "dd19a23e",
      "metadata": {
        "id": "dd19a23e",
        "outputId": "08da0e81-f45a-4975-fa60-c490237879ee"
      },
      "outputs": [
        {
          "data": {
            "text/plain": [
              "2.73"
            ]
          },
          "execution_count": 168,
          "metadata": {},
          "output_type": "execute_result"
        }
      ],
      "source": [
        "mc.e"
      ]
    },
    {
      "cell_type": "code",
      "execution_count": null,
      "id": "4cffedbe",
      "metadata": {
        "id": "4cffedbe",
        "outputId": "04751edf-2807-400d-aede-9268137cf314"
      },
      "outputs": [
        {
          "name": "stdout",
          "output_type": "stream",
          "text": [
            "3.14 John\n"
          ]
        }
      ],
      "source": [
        "print(mc.pi, mc.person1['name'])"
      ]
    },
    {
      "cell_type": "code",
      "execution_count": null,
      "id": "31d7f9c2",
      "metadata": {
        "id": "31d7f9c2",
        "outputId": "d673b416-7eea-4495-8eff-d0bf03c26527"
      },
      "outputs": [
        {
          "name": "stdout",
          "output_type": "stream",
          "text": [
            "100\n"
          ]
        }
      ],
      "source": [
        "print(mc.find_sqaure(10))"
      ]
    },
    {
      "cell_type": "code",
      "execution_count": null,
      "id": "af18cb91",
      "metadata": {
        "id": "af18cb91",
        "outputId": "081d8ff4-70b2-4ed9-f501-5cb92095cdd4"
      },
      "outputs": [
        {
          "name": "stdout",
          "output_type": "stream",
          "text": [
            "7.0\n"
          ]
        }
      ],
      "source": [
        "from math_calculator import find_square_root\n",
        "\n",
        "print(find_square_root(49))"
      ]
    },
    {
      "cell_type": "code",
      "execution_count": null,
      "id": "9f65d53e",
      "metadata": {
        "id": "9f65d53e"
      },
      "outputs": [],
      "source": [
        "def find_square_root(a, b):\n",
        "    return a**0.5, b**0.5"
      ]
    },
    {
      "cell_type": "code",
      "execution_count": null,
      "id": "fb55f615",
      "metadata": {
        "scrolled": true,
        "id": "fb55f615",
        "outputId": "f380c25d-58ca-46a2-a481-0d591c77b711"
      },
      "outputs": [
        {
          "data": {
            "text/plain": [
              "(6.0, 7.0)"
            ]
          },
          "execution_count": 175,
          "metadata": {},
          "output_type": "execute_result"
        }
      ],
      "source": [
        "find_square_root(36, 49)"
      ]
    },
    {
      "cell_type": "markdown",
      "id": "4b20d162",
      "metadata": {
        "id": "4b20d162"
      },
      "source": [
        "## Functional Programming"
      ]
    },
    {
      "cell_type": "markdown",
      "id": "0c1afaa6",
      "metadata": {
        "id": "0c1afaa6"
      },
      "source": [
        "#### Lambda Function"
      ]
    },
    {
      "cell_type": "code",
      "execution_count": null,
      "id": "abb0ef96",
      "metadata": {
        "id": "abb0ef96",
        "outputId": "2c0aa637-89a4-44a1-c967-8d88ee875e3d"
      },
      "outputs": [
        {
          "name": "stdout",
          "output_type": "stream",
          "text": [
            "15\n"
          ]
        }
      ],
      "source": [
        "# Normal functions\n",
        "def add_1(a, b):\n",
        "    return a + b\n",
        "\n",
        "added_val_1 = add_1(5, 10)\n",
        "print(added_val_1)"
      ]
    },
    {
      "cell_type": "code",
      "execution_count": null,
      "id": "e7b09ddb",
      "metadata": {
        "id": "e7b09ddb",
        "outputId": "8377a8fa-704c-4926-c5ed-05b9396fcd34"
      },
      "outputs": [
        {
          "name": "stdout",
          "output_type": "stream",
          "text": [
            "15\n"
          ]
        }
      ],
      "source": [
        "# Lambda function\n",
        "add_2 = lambda a, b: a + b\n",
        "\n",
        "added_val_2 = add_2(5, 10)\n",
        "print(added_val_2)"
      ]
    },
    {
      "cell_type": "code",
      "execution_count": null,
      "id": "46cb1d27",
      "metadata": {
        "id": "46cb1d27",
        "outputId": "42ce973b-0677-4cfd-df66-6ff66161ea02"
      },
      "outputs": [
        {
          "name": "stdout",
          "output_type": "stream",
          "text": [
            "Hello World\n",
            "Hello World\n",
            "Hello New World\n"
          ]
        }
      ],
      "source": [
        "# Another example\n",
        "def greet1():\n",
        "    print(\"Hello World\")\n",
        "\n",
        "greet2 = lambda : print(\"Hello World\")\n",
        "\n",
        "greet3 = lambda name: print(\"Hello \" + name)\n",
        "\n",
        "greet1()\n",
        "greet2()\n",
        "greet3(\"New World\")"
      ]
    },
    {
      "cell_type": "markdown",
      "id": "dc2b3925",
      "metadata": {
        "id": "dc2b3925"
      },
      "source": [
        "#### map()"
      ]
    },
    {
      "cell_type": "markdown",
      "id": "711dc2f5",
      "metadata": {
        "id": "711dc2f5"
      },
      "source": [
        "The map() function in Python does not modify the original iterable in-place. Instead, it applies a specified function to each element of the iterable and returns an iterable containing the results. The original iterable remains unchanged."
      ]
    },
    {
      "cell_type": "code",
      "execution_count": null,
      "id": "d47342b3",
      "metadata": {
        "id": "d47342b3",
        "outputId": "56131349-8241-4e9f-fa5c-2ef80107f705"
      },
      "outputs": [
        {
          "name": "stdout",
          "output_type": "stream",
          "text": [
            "[4, 16, 64, 36, 64, 100]\n"
          ]
        }
      ],
      "source": [
        "# Example - with normal Python function\n",
        "numbers = [2, 4, 8, 6, 8, 10]\n",
        "\n",
        "def square(number):\n",
        "    return number ** 2\n",
        "\n",
        "numbersSquare_list = list(map(square, numbers))\n",
        "\n",
        "print(numbersSquare_list)"
      ]
    },
    {
      "cell_type": "code",
      "execution_count": null,
      "id": "f01962f8",
      "metadata": {
        "scrolled": true,
        "id": "f01962f8",
        "outputId": "b1fa1afb-d047-4e10-9909-d9a233c28d47"
      },
      "outputs": [
        {
          "name": "stdout",
          "output_type": "stream",
          "text": [
            "[4, 16, 64, 36, 64, 100]\n"
          ]
        }
      ],
      "source": [
        "# with Lambda function\n",
        "numbersSquare_list = list(map(lambda x: x**2, numbers))\n",
        "print(numbersSquare_list)"
      ]
    },
    {
      "cell_type": "markdown",
      "id": "6f391693",
      "metadata": {
        "id": "6f391693"
      },
      "source": [
        "#### filter()"
      ]
    },
    {
      "cell_type": "code",
      "execution_count": null,
      "id": "b5a2a771",
      "metadata": {
        "id": "b5a2a771"
      },
      "outputs": [],
      "source": [
        "scores = [66, 90, 68, 59, 76, 60, 88, 74, 81, 65]"
      ]
    },
    {
      "cell_type": "code",
      "execution_count": null,
      "id": "27ecc85a",
      "metadata": {
        "id": "27ecc85a",
        "outputId": "751e588f-5055-4655-e076-162757376049"
      },
      "outputs": [
        {
          "name": "stdout",
          "output_type": "stream",
          "text": [
            "Filtered list: [90, 76, 88, 81]\n"
          ]
        }
      ],
      "source": [
        "def is_A_student(score):\n",
        "    return score > 75\n",
        "\n",
        "filtered_scores = filter(is_A_student, scores)\n",
        "\n",
        "over_75 = list(filtered_scores)\n",
        "print(\"Filtered list:\", over_75)"
      ]
    },
    {
      "cell_type": "code",
      "execution_count": null,
      "id": "1cfae862",
      "metadata": {
        "id": "1cfae862",
        "outputId": "e8371b08-004a-4f1a-c09a-d2960f259349"
      },
      "outputs": [
        {
          "name": "stdout",
          "output_type": "stream",
          "text": [
            "Filtered list: [90, 76, 88, 81]\n"
          ]
        }
      ],
      "source": [
        "filtered_scores = filter(lambda x: x > 75, scores)\n",
        "\n",
        "over_75 = list(filtered_scores)\n",
        "print(\"Filtered list:\", over_75)"
      ]
    },
    {
      "cell_type": "markdown",
      "id": "3d83505b",
      "metadata": {
        "id": "3d83505b"
      },
      "source": [
        "## Class Activity"
      ]
    },
    {
      "cell_type": "code",
      "execution_count": null,
      "id": "e26c7cca",
      "metadata": {
        "id": "e26c7cca",
        "outputId": "5763dacd-7d1a-43ea-d284-9920952d665b"
      },
      "outputs": [
        {
          "name": "stdout",
          "output_type": "stream",
          "text": [
            "20 8\n"
          ]
        }
      ],
      "source": [
        "# What is the output?\n",
        "\n",
        "# lambda function with trenary operator\n",
        "func = lambda a, b: b - a if a <= b else a * b\n",
        "\n",
        "print(func(10, 2), func(2, 10))"
      ]
    },
    {
      "cell_type": "code",
      "execution_count": null,
      "id": "ba1b3524",
      "metadata": {
        "scrolled": true,
        "id": "ba1b3524",
        "outputId": "ce2f94b8-c53f-4e5e-bb79-4e0f47733e4f"
      },
      "outputs": [
        {
          "name": "stdout",
          "output_type": "stream",
          "text": [
            "(-3, -9)\n"
          ]
        }
      ],
      "source": [
        "# Write a code to keep negative numbers (use both ordinary and lambda functions)\n",
        "\n",
        "numbers = [1, 0, -3, 6, 5, -9, 24]\n",
        "\n",
        "less_than_zero = list(filter(lambda x: x<0, numbers))\n",
        "\n",
        "print(less_than_zero)"
      ]
    },
    {
      "cell_type": "code",
      "execution_count": null,
      "id": "347a3a29",
      "metadata": {
        "id": "347a3a29",
        "outputId": "3438adda-84d7-43c9-a5c8-7dcb9d4a06b1"
      },
      "outputs": [
        {
          "name": "stdout",
          "output_type": "stream",
          "text": [
            "[5, 3, 6]\n"
          ]
        }
      ],
      "source": [
        "# Write a code to find the length of each string\n",
        "\n",
        "strings = [\"apple\", \"fig\", \"orange\"]\n",
        "\n",
        "lengths_list = list(map(lambda s: len(s), strings))\n",
        "# lengths_list = list(map(len, strings))\n",
        "\n",
        "print(lengths_list)"
      ]
    },
    {
      "cell_type": "code",
      "execution_count": null,
      "id": "b560ae09",
      "metadata": {
        "id": "b560ae09",
        "outputId": "267ceeb2-223e-4e19-b4d9-2c942abba549"
      },
      "outputs": [
        {
          "name": "stdout",
          "output_type": "stream",
          "text": [
            "[2, 4, 6, 8]\n"
          ]
        }
      ],
      "source": [
        "# Write a code to keep even numbers\n",
        "\n",
        "numbers = [1, 2, 3, 4, 5, 6, 7, 8]\n",
        "\n",
        "even_numbers_list = list(filter(lambda a: a % 2 == 0, numbers))\n",
        "\n",
        "print(even_numbers_list)"
      ]
    },
    {
      "cell_type": "code",
      "execution_count": null,
      "id": "65cc81d0",
      "metadata": {
        "id": "65cc81d0",
        "outputId": "6ecbc3e7-0dfc-44aa-aa43-08255edb8a9b"
      },
      "outputs": [
        {
          "name": "stdout",
          "output_type": "stream",
          "text": [
            "['a', 'e', 'i', 'o']\n"
          ]
        }
      ],
      "source": [
        "# Write a code to keep vowels\n",
        "\n",
        "letters = ['a', 'b', 'd', 'e', 'i', 'j', 'o']\n",
        "vowels = ['a', 'e', 'i', 'o', 'u']\n",
        "\n",
        "filtered_vowels = list(filter(lambda x: x in vowels, letters))\n",
        "\n",
        "print(filtered_vowels)"
      ]
    },
    {
      "cell_type": "markdown",
      "id": "27bb190a",
      "metadata": {
        "id": "27bb190a"
      },
      "source": [
        "### LeetCode 169"
      ]
    },
    {
      "cell_type": "code",
      "execution_count": null,
      "id": "8dbf3f7f",
      "metadata": {
        "id": "8dbf3f7f"
      },
      "outputs": [],
      "source": [
        "def some_func():\n",
        "    print(2)"
      ]
    },
    {
      "cell_type": "code",
      "execution_count": null,
      "id": "e3acd94c",
      "metadata": {
        "scrolled": true,
        "id": "e3acd94c"
      },
      "outputs": [],
      "source": [
        "def majorityElement(nums):\n",
        "\n",
        "    freq = dict()\n",
        "\n",
        "    for num in nums:\n",
        "        if freq.get(num, None) is None:\n",
        "            freq[num] = 1\n",
        "        else:\n",
        "            freq[num] += 1\n",
        "\n",
        "    for key in freq:\n",
        "        if freq[key] > (len(nums) // 2):\n",
        "            return key"
      ]
    },
    {
      "cell_type": "code",
      "execution_count": null,
      "id": "f8f0c8de",
      "metadata": {
        "id": "f8f0c8de",
        "outputId": "d91afadf-ff99-4aa4-f6a5-f670fb12aacf"
      },
      "outputs": [
        {
          "name": "stdout",
          "output_type": "stream",
          "text": [
            "3\n"
          ]
        }
      ],
      "source": [
        "# Test Case 1\n",
        "nums = [3, 2, 3]\n",
        "print(majorityElement(nums))"
      ]
    },
    {
      "cell_type": "code",
      "execution_count": null,
      "id": "476faad6",
      "metadata": {
        "id": "476faad6",
        "outputId": "32b8d95e-e588-4dfc-f210-118895d384d0"
      },
      "outputs": [
        {
          "name": "stdout",
          "output_type": "stream",
          "text": [
            "2\n"
          ]
        }
      ],
      "source": [
        "# Test Case 2\n",
        "nums = [2, 2, 1, 1, 1, 2, 2]\n",
        "print(majorityElement(nums))"
      ]
    },
    {
      "cell_type": "markdown",
      "id": "730c6084",
      "metadata": {
        "id": "730c6084"
      },
      "source": [
        "## Scope of Variables"
      ]
    },
    {
      "cell_type": "code",
      "execution_count": null,
      "id": "562528f0",
      "metadata": {
        "id": "562528f0",
        "outputId": "9919a510-54e1-49d2-8510-ce56fc568963"
      },
      "outputs": [
        {
          "name": "stdout",
          "output_type": "stream",
          "text": [
            "4\n",
            "5\n",
            "4\n"
          ]
        }
      ],
      "source": [
        "def my_function():\n",
        "    x = 5 # local variable\n",
        "    print(x)\n",
        "\n",
        "x = 4 # global variable\n",
        "print(x)\n",
        "my_function()\n",
        "print(x)"
      ]
    },
    {
      "cell_type": "code",
      "execution_count": null,
      "id": "8b87437b",
      "metadata": {
        "id": "8b87437b",
        "outputId": "d061e4b1-2814-4b82-a1e3-88fd6245f436"
      },
      "outputs": [
        {
          "name": "stdout",
          "output_type": "stream",
          "text": [
            "9\n",
            "4\n"
          ]
        }
      ],
      "source": [
        "def my_function():\n",
        "    z = 5 # local variable\n",
        "    print(z + y)\n",
        "\n",
        "y = 4 # global variable\n",
        "my_function()\n",
        "print(y)\n",
        "# print(z) # Error: Not defined!"
      ]
    },
    {
      "cell_type": "code",
      "execution_count": null,
      "id": "aef5a730",
      "metadata": {
        "scrolled": true,
        "id": "aef5a730",
        "outputId": "2b4c598b-8786-4f46-e609-f3c642a0e505"
      },
      "outputs": [
        {
          "name": "stdout",
          "output_type": "stream",
          "text": [
            "AB\n",
            "AB\n",
            "CD\n",
            "CD\n"
          ]
        }
      ],
      "source": [
        "# This function modifies global variable 's'\n",
        "def f():\n",
        "    global s\n",
        "    print(s)\n",
        "    s = \"CD\" # global variable\n",
        "    print(s)\n",
        "\n",
        "s = \"AB\" # global variable\n",
        "print(s)\n",
        "f()\n",
        "print(s)"
      ]
    },
    {
      "cell_type": "code",
      "execution_count": null,
      "id": "3020f423",
      "metadata": {
        "id": "3020f423",
        "outputId": "25a2f86d-8ab3-493b-8e98-1dfe1a473185"
      },
      "outputs": [
        {
          "name": "stdout",
          "output_type": "stream",
          "text": [
            "Maria\n",
            "Peter\n",
            "Nicole\n"
          ]
        }
      ],
      "source": [
        "# Example\n",
        "s1 = \"Maria\" # global variable\n",
        "\n",
        "def f():\n",
        "    s3 = \"Nicole\" # local variable\n",
        "    print(s1)\n",
        "    print(s2)\n",
        "    print(s3)\n",
        "\n",
        "s2 = \"Peter\" # global variable\n",
        "f()"
      ]
    },
    {
      "cell_type": "markdown",
      "id": "69b642f4",
      "metadata": {
        "id": "69b642f4"
      },
      "source": [
        "### Call by Value"
      ]
    },
    {
      "cell_type": "code",
      "execution_count": null,
      "id": "478d227e",
      "metadata": {
        "id": "478d227e",
        "outputId": "998ff6b4-9a0f-465c-a25f-06d5caedda3d"
      },
      "outputs": [
        {
          "name": "stdout",
          "output_type": "stream",
          "text": [
            "Original value: 10\n",
            "\n",
            "Original value after modification: 10\n",
            "\n",
            "Modified value: 11\n"
          ]
        }
      ],
      "source": [
        "# Integer\n",
        "def modify_value(x):\n",
        "    x += 1\n",
        "    return x\n",
        "\n",
        "original_variable = 10\n",
        "\n",
        "print(\"Original value:\", original_variable)\n",
        "\n",
        "result = modify_value(original_variable)\n",
        "\n",
        "print(\"\\nOriginal value after modification:\", original_variable)\n",
        "\n",
        "print(\"\\nModified value:\", result)"
      ]
    },
    {
      "cell_type": "code",
      "execution_count": null,
      "id": "74d1bf24",
      "metadata": {
        "id": "74d1bf24",
        "outputId": "b682eb1c-97b5-44c0-b329-1f9a793e216f"
      },
      "outputs": [
        {
          "name": "stdout",
          "output_type": "stream",
          "text": [
            "Original string: Hello\n",
            "\n",
            "Original string after update: Hello\n",
            "\n",
            "Modified string: Hello World!\n"
          ]
        }
      ],
      "source": [
        "# Strings\n",
        "def modify_string(input_string):\n",
        "    input_string += \" World!\"\n",
        "    return input_string\n",
        "\n",
        "original_string = \"Hello\"\n",
        "\n",
        "print(\"Original string:\", original_string)\n",
        "\n",
        "modified_string = modify_string(original_string)\n",
        "\n",
        "print(\"\\nOriginal string after update:\", original_string)\n",
        "\n",
        "print(\"\\nModified string:\", modified_string)"
      ]
    },
    {
      "cell_type": "markdown",
      "id": "ea828780",
      "metadata": {
        "id": "ea828780"
      },
      "source": [
        "### Call by Reference"
      ]
    },
    {
      "cell_type": "code",
      "execution_count": null,
      "id": "40a6f5ae",
      "metadata": {
        "id": "40a6f5ae",
        "outputId": "caea868c-ecd3-4149-fcb3-e9e2bf009d78"
      },
      "outputs": [
        {
          "name": "stdout",
          "output_type": "stream",
          "text": [
            "Original list: [1, 2, 3]\n",
            "Modified list: [1, 2, 3, 4]\n"
          ]
        }
      ],
      "source": [
        "# Lists\n",
        "def modify_list(lst):\n",
        "    lst.append(4)\n",
        "\n",
        "original_list = [1, 2, 3]\n",
        "\n",
        "print(\"Original list:\", original_list)\n",
        "\n",
        "modify_list(original_list)\n",
        "\n",
        "print(\"Modified list:\", original_list)"
      ]
    },
    {
      "cell_type": "code",
      "execution_count": null,
      "id": "fa55c413",
      "metadata": {
        "id": "fa55c413",
        "outputId": "1bc55e2a-bf34-4b59-eb95-dff8a9949fed"
      },
      "outputs": [
        {
          "name": "stdout",
          "output_type": "stream",
          "text": [
            "Original Dictionary: {'key1': 'value1', 'key2': 'value2'}\n",
            "Modified Dictionary: {'key1': 'value1', 'key2': 'new_value'}\n"
          ]
        }
      ],
      "source": [
        "# Dictionaries\n",
        "def modify_dict(input_dict):\n",
        "    input_dict['key2'] = 'new_value'\n",
        "\n",
        "original_dict = {'key1': 'value1', 'key2': 'value2'}\n",
        "\n",
        "print(\"Original Dictionary:\", original_dict)\n",
        "\n",
        "modify_dict(original_dict)\n",
        "\n",
        "print(\"Modified Dictionary:\", original_dict)"
      ]
    },
    {
      "cell_type": "markdown",
      "id": "3b04ca30",
      "metadata": {
        "id": "3b04ca30"
      },
      "source": [
        "## Class Activity"
      ]
    },
    {
      "cell_type": "markdown",
      "id": "69de4c04",
      "metadata": {
        "id": "69de4c04"
      },
      "source": [
        "### Global vs Local"
      ]
    },
    {
      "cell_type": "markdown",
      "id": "5ea3a086",
      "metadata": {
        "id": "5ea3a086"
      },
      "source": [
        "#### What is the output of this code?"
      ]
    },
    {
      "cell_type": "code",
      "execution_count": null,
      "id": "ad56077c",
      "metadata": {
        "id": "ad56077c",
        "outputId": "8d40120a-39f1-446d-be9c-7ca38f6fa554"
      },
      "outputs": [
        {
          "name": "stdout",
          "output_type": "stream",
          "text": [
            "1112133\n"
          ]
        }
      ],
      "source": [
        "# What is the output?\n",
        "\n",
        "a = 1 # global variable\n",
        "\n",
        "def f():\n",
        "    print(a, end=\"\")\n",
        "\n",
        "def g():\n",
        "    a = 2 # local to g()\n",
        "    print(a, end=\"\")\n",
        "\n",
        "def h():\n",
        "    global a\n",
        "    a = 3 # local to h()\n",
        "    print(a, end=\"\")\n",
        "\n",
        "print(a, end=\"\")\n",
        "f()\n",
        "print(a, end=\"\")\n",
        "g()\n",
        "print(a, end=\"\")\n",
        "h()\n",
        "print(a)"
      ]
    },
    {
      "cell_type": "markdown",
      "id": "c175d8ae",
      "metadata": {
        "id": "c175d8ae"
      },
      "source": [
        "#### What is the output of this code?"
      ]
    },
    {
      "cell_type": "code",
      "execution_count": null,
      "id": "2e431c96",
      "metadata": {
        "id": "2e431c96",
        "outputId": "12eb340d-45f6-403c-c1c9-d7b9a51312a8"
      },
      "outputs": [
        {
          "name": "stdout",
          "output_type": "stream",
          "text": [
            "30 40 30 40 30\n"
          ]
        }
      ],
      "source": [
        "x = 10 # global var\n",
        "\n",
        "def outer_function():\n",
        "\n",
        "    y = 20 # local to outer / global to inner\n",
        "\n",
        "    def inner_function():\n",
        "        global x\n",
        "        nonlocal y\n",
        "\n",
        "        x = 30 # overwrites globally\n",
        "        y = 40 # overwrites locally\n",
        "\n",
        "        print(x, end=\" \")\n",
        "        print(y, end=\" \")\n",
        "\n",
        "    inner_function()\n",
        "    print(x, end=\" \")\n",
        "    print(y, end=\" \")\n",
        "\n",
        "outer_function()\n",
        "print(x)"
      ]
    },
    {
      "cell_type": "markdown",
      "id": "838fa983",
      "metadata": {
        "id": "838fa983"
      },
      "source": [
        "### Call by Value or Reference"
      ]
    },
    {
      "cell_type": "markdown",
      "id": "6834c558",
      "metadata": {
        "id": "6834c558"
      },
      "source": [
        "#### What is the output of this code?"
      ]
    },
    {
      "cell_type": "code",
      "execution_count": null,
      "id": "ea10ed6e",
      "metadata": {
        "id": "ea10ed6e",
        "outputId": "6d4b41df-568d-4efe-cf6c-7f1e9e24039b"
      },
      "outputs": [
        {
          "ename": "TypeError",
          "evalue": "unsupported operand type(s) for +=: 'bool' and 'str'",
          "output_type": "error",
          "traceback": [
            "\u001b[0;31m---------------------------------------------------------------------------\u001b[0m",
            "\u001b[0;31mTypeError\u001b[0m                                 Traceback (most recent call last)",
            "Cell \u001b[0;32mIn[244], line 5\u001b[0m\n\u001b[1;32m      3\u001b[0m     b \u001b[38;5;241m+\u001b[39m\u001b[38;5;241m=\u001b[39m \u001b[38;5;241m4\u001b[39m\n\u001b[1;32m      4\u001b[0m     c[\u001b[38;5;124m'\u001b[39m\u001b[38;5;124ma\u001b[39m\u001b[38;5;124m'\u001b[39m] \u001b[38;5;241m=\u001b[39m \u001b[38;5;241m3\u001b[39m\n\u001b[0;32m----> 5\u001b[0m d \u001b[38;5;241m+\u001b[39m\u001b[38;5;241m=\u001b[39m \u001b[38;5;124m\"\u001b[39m\u001b[38;5;124mWorld\u001b[39m\u001b[38;5;124m\"\u001b[39m\n\u001b[1;32m      7\u001b[0m var1 \u001b[38;5;241m=\u001b[39m [\u001b[38;5;241m-\u001b[39m\u001b[38;5;241m1\u001b[39m]   \u001b[38;5;66;03m# mutable\u001b[39;00m\n\u001b[1;32m      8\u001b[0m var2 \u001b[38;5;241m=\u001b[39m \u001b[38;5;241m0\u001b[39m      \u001b[38;5;66;03m# immutable\u001b[39;00m\n",
            "\u001b[0;31mTypeError\u001b[0m: unsupported operand type(s) for +=: 'bool' and 'str'"
          ]
        }
      ],
      "source": [
        "def modifier(a, b, c, d):\n",
        "    a.append(3)\n",
        "    b += 4\n",
        "    c['a'] = 3\n",
        "    d += \"World\"\n",
        "\n",
        "var1 = [-1]   # mutable\n",
        "var2 = 0      # immutable\n",
        "var3 = {}     # mutable\n",
        "var4 = \"Hey \" # immutable\n",
        "\n",
        "modifier(var1, var2, var3, var4)\n",
        "\n",
        "# [-1, 3] 0 {'a':3} \"Hey \"\n",
        "\n",
        "print(var1, var2, var3, var4)"
      ]
    },
    {
      "cell_type": "markdown",
      "id": "e3c7c87e",
      "metadata": {
        "id": "e3c7c87e"
      },
      "source": [
        "### LeetCode 1"
      ]
    },
    {
      "cell_type": "code",
      "execution_count": null,
      "id": "9a96d7ef",
      "metadata": {
        "id": "9a96d7ef"
      },
      "outputs": [],
      "source": [
        "def twoSum(nums, target):\n",
        "    dict1 = {}\n",
        "    for i in range(len(nums)):\n",
        "        dict1[nums[i]] = i\n",
        "    for i in range(len(nums)):\n",
        "        complement = target - nums[i]\n",
        "        if complement in dict1 and dict1[complement] != i:\n",
        "            return [i, dict1[complement]]"
      ]
    },
    {
      "cell_type": "code",
      "execution_count": null,
      "id": "b55feadb",
      "metadata": {
        "id": "b55feadb"
      },
      "outputs": [],
      "source": [
        "def twoSum(nums, target):\n",
        "    dict1 = {}\n",
        "    for i in range(len(nums)):\n",
        "        complement = target - nums[i]\n",
        "        if complement in dict1:\n",
        "            return [i, dict1[complement]]\n",
        "        dict1[nums[i]] = i"
      ]
    },
    {
      "cell_type": "code",
      "execution_count": null,
      "id": "844f6230",
      "metadata": {
        "id": "844f6230",
        "outputId": "e61326d4-cee6-4288-cfe6-cf62c60b6add"
      },
      "outputs": [
        {
          "name": "stdout",
          "output_type": "stream",
          "text": [
            "[1, 0]\n"
          ]
        }
      ],
      "source": [
        "# Test Case 1\n",
        "nums = [2, 7, 11, 15]\n",
        "target = 9\n",
        "print(twoSum(nums, target))"
      ]
    },
    {
      "cell_type": "code",
      "execution_count": null,
      "id": "843671ce",
      "metadata": {
        "id": "843671ce",
        "outputId": "6e45ab79-be01-46ba-e90d-87afa0039be1"
      },
      "outputs": [
        {
          "name": "stdout",
          "output_type": "stream",
          "text": [
            "[2, 1]\n"
          ]
        }
      ],
      "source": [
        "# Test Case 2\n",
        "nums = [3, 2, 4]\n",
        "target = 6\n",
        "print(twoSum(nums, target))"
      ]
    },
    {
      "cell_type": "code",
      "execution_count": null,
      "id": "783824c7",
      "metadata": {
        "id": "783824c7",
        "outputId": "0f9582b3-3928-436b-b9a3-0279cc856ea3"
      },
      "outputs": [
        {
          "name": "stdout",
          "output_type": "stream",
          "text": [
            "[1, 0]\n"
          ]
        }
      ],
      "source": [
        "# Test Case 3\n",
        "nums = [3, 3]\n",
        "target = 6\n",
        "print(twoSum(nums, target))"
      ]
    }
  ],
  "metadata": {
    "kernelspec": {
      "display_name": "Python 3 (ipykernel)",
      "language": "python",
      "name": "python3"
    },
    "language_info": {
      "codemirror_mode": {
        "name": "ipython",
        "version": 3
      },
      "file_extension": ".py",
      "mimetype": "text/x-python",
      "name": "python",
      "nbconvert_exporter": "python",
      "pygments_lexer": "ipython3",
      "version": "3.10.9"
    },
    "colab": {
      "provenance": []
    }
  },
  "nbformat": 4,
  "nbformat_minor": 5
}